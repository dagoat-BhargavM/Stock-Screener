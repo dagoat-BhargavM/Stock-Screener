{
 "cells": [
  {
   "cell_type": "code",
   "execution_count": 2,
   "metadata": {},
   "outputs": [],
   "source": [
    "import pandas as pd\n",
    "import ast\n",
    "import warnings\n",
    "warnings.filterwarnings(\"ignore\")\n",
    "df = pd.read_csv(\"/Users/bhargavmukhami/Desktop/Stock_Prediction_Project/EQUITY_L.csv\")\n",
    "missing_values = [\"NaN\", \"Nan\", \" \", \"\"]\n",
    "funda = pd.read_csv(f\"/Users/bhargavmukhami/Desktop/Stock_Prediction_Project/stock_data_fundamental/stock(18-02-2024).csv\", na_values=missing_values)\n",
    "funda = funda.fillna(0)\n",
    "\n",
    "for i in range(len(funda)):\n",
    "    if isinstance(funda[\"Market Cap\"][i], str):\n",
    "        funda[\"Market Cap\"][i] = float(funda[\"Market Cap\"][i].replace(\",\", \"\"))\n",
    "    if isinstance(funda[\"Compounded Sales Growth\"][i], str):\n",
    "        if funda[\"Compounded Sales Growth\"][i].rstrip(\"%\") != \"\":\n",
    "            funda[\"Compounded Sales Growth\"][i] = float(funda[\"Compounded Sales Growth\"][i].rstrip(\"%\"))\n",
    "    if isinstance(funda[\"Compounded Profit Growth\"][i], str):\n",
    "        if funda[\"Compounded Profit Growth\"][i].rstrip(\"%\") != \"\":\n",
    "            funda[\"Compounded Profit Growth\"][i] = float(funda[\"Compounded Profit Growth\"][i].rstrip(\"%\"))\n",
    "    if len(ast.literal_eval(funda[\"Promoter holding\"][i])) > 0:\n",
    "        l = []\n",
    "        for j in ast.literal_eval(funda[\"Promoter holding\"][i]):\n",
    "            if j.rstrip(\"%\") != \"\":\n",
    "                l.append(float(j.rstrip(\"%\")))\n",
    "        funda[\"Promoter holding\"][i] = l\n",
    "    else:\n",
    "        funda[\"Promoter holding\"][i] = []\n",
    "    if len(ast.literal_eval(funda[\"FIIs\"][i])) > 0:\n",
    "        l = []\n",
    "        for j in ast.literal_eval(funda[\"FIIs\"][i]):\n",
    "            if j.rstrip(\"%\") != \"\":\n",
    "                l.append(float(j.rstrip(\"%\")))\n",
    "        funda[\"FIIs\"][i] = l\n",
    "    else:\n",
    "        funda[\"FIIs\"][i] = []\n",
    "    if len(ast.literal_eval(funda[\"DIIs\"][i])) > 0:\n",
    "        l = []\n",
    "        for j in ast.literal_eval(funda[\"DIIs\"][i]):\n",
    "            if j.rstrip(\"%\") != \"\":\n",
    "                l.append(float(j.rstrip(\"%\")))\n",
    "        funda[\"DIIs\"][i] = l\n",
    "    else:\n",
    "        funda[\"DIIs\"][i] = []\n",
    "    if len(ast.literal_eval(funda[\"Public\"][i])) > 0:\n",
    "        l = []\n",
    "        for j in ast.literal_eval(funda[\"Public\"][i]):\n",
    "            if j.rstrip(\"%\") != \"\":\n",
    "                l.append(float(j.rstrip(\"%\")))\n",
    "        funda[\"Public\"][i] = l\n",
    "    else:\n",
    "        funda[\"Public\"][i] = []\n",
    "    if len(ast.literal_eval(funda[\"np_quarterly\"][i])) > 0:\n",
    "        l = []\n",
    "        for j in ast.literal_eval(funda[\"np_quarterly\"][i]):\n",
    "            l.append(float(j.replace(\",\", \"\")))\n",
    "        funda[\"np_quarterly\"][i] = l\n",
    "    else:\n",
    "        funda[\"np_quarterly\"][i] = []\n",
    "    if len(ast.literal_eval(funda[\"np_yearly\"][i])) > 0:\n",
    "        l = []\n",
    "        for j in ast.literal_eval(funda[\"np_yearly\"][i]):\n",
    "            l.append(float(j.replace(\",\", \"\")))\n",
    "        funda[\"np_yearly\"][i] = l\n",
    "    else:\n",
    "        funda[\"np_yearly\"][i] = []\n",
    "    funda[\"ROE\"][i] = float(str(funda[\"ROE\"][i]).replace(\",\", \"\"))\n",
    "    funda[\"ROCE\"][i] = float(funda[\"ROCE\"][i])\n",
    "    funda[\"Stock P/E\"][i] = float(str(funda[\"Stock P/E\"][i]).replace(\",\", \"\"))"
   ]
  },
  {
   "cell_type": "code",
   "execution_count": 3,
   "metadata": {},
   "outputs": [
    {
     "name": "stdout",
     "output_type": "stream",
     "text": [
      "6\n"
     ]
    },
    {
     "data": {
      "text/plain": [
       "['GMDCLTD', 'GODFRYPHLP', 'GRAVITA', 'MAHSEAMLES', 'RAYMOND', 'SURYAROSNI']"
      ]
     },
     "execution_count": 3,
     "metadata": {},
     "output_type": "execute_result"
    }
   ],
   "source": [
    "final = []\n",
    "\n",
    "for stock in df[\"SYMBOL\"]:\n",
    "    try:\n",
    "        file = pd.read_csv(f\"/Users/bhargavmukhami/Desktop/Stock_Prediction_Project/stock_data_technical/{stock}_historical_data.csv\")\n",
    "        open = list(file[\"Open\"])\n",
    "        high = list(file[\"High\"])\n",
    "        low = list(file[\"Low\"])\n",
    "        close = list(file[\"Close\"])\n",
    "        adj_close = list(file[\"Adj Close\"])\n",
    "        volume = list(file[\"Volume\"])\n",
    "\n",
    "        count = 0\n",
    "        for i in range(len(close) - 1):\n",
    "            if ((close[i + 1] - close[i]) / close[i]) * 100 >= 5:\n",
    "                count += 1\n",
    "        if count >= 1:\n",
    "            if close[-1] > 50:\n",
    "                for i in range(len(funda)):\n",
    "                    if funda[\"SYMBOL\"][i] == stock:\n",
    "                        if (5000 < funda[\"Market Cap\"][i] < 20000):\n",
    "                            if (5 < funda[\"Stock P/E\"][i] < 30):\n",
    "                                if (len(funda[\"Promoter holding\"][i]) > 0 or len(funda[\"Promoter holding\"][i]) == 0):\n",
    "                                    if (len(funda[\"Promoter holding\"][i]) == 0 or funda[\"Promoter holding\"][i][-1] > 50):\n",
    "                                        if (funda[\"ROE\"][i] > funda[\"Stock P/E\"][i]):\n",
    "                                            if (funda[\"ROCE\"][i] > funda[\"Stock P/E\"][i]):\n",
    "                                                if (len(funda[\"np_quarterly\"]) > 1):\n",
    "                                                    if (funda[\"np_quarterly\"][i][-1] > funda[\"np_quarterly\"][i][-2]):\n",
    "                                                        if (len(funda[\"np_yearly\"]) > 1):\n",
    "                                                            if (funda[\"np_yearly\"][i][-1] > funda[\"np_yearly\"][i][-2]):\n",
    "                                                                final.append(stock)\n",
    "        \n",
    "    except:\n",
    "        continue\n",
    "print(len(final))\n",
    "final"
   ]
  }
 ],
 "metadata": {
  "kernelspec": {
   "display_name": "Python 3",
   "language": "python",
   "name": "python3"
  },
  "language_info": {
   "codemirror_mode": {
    "name": "ipython",
    "version": 3
   },
   "file_extension": ".py",
   "mimetype": "text/x-python",
   "name": "python",
   "nbconvert_exporter": "python",
   "pygments_lexer": "ipython3",
   "version": "3.10.7"
  }
 },
 "nbformat": 4,
 "nbformat_minor": 2
}
