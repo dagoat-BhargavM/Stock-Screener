{
 "cells": [
  {
   "cell_type": "code",
   "execution_count": 1,
   "metadata": {},
   "outputs": [
    {
     "name": "stdout",
     "output_type": "stream",
     "text": [
      "['BAJFINANCE', 'BAYERCROP', 'JSWHL']\n"
     ]
    }
   ],
   "source": [
    "import pandas as pd\n",
    "df = pd.read_csv(\"/Users/bhargavmukhami/Desktop/Stock_Prediction_Project/EQUITY_L.csv\")\n",
    "\n",
    "final = []\n",
    "\n",
    "for stock in df[\"SYMBOL\"]:\n",
    "    try:\n",
    "        file = pd.read_csv(f\"/Users/bhargavmukhami/Desktop/Stock_Prediction_Project/stock_data_technical/{stock}_historical_data.csv\")\n",
    "        open = list(file[\"Open\"])\n",
    "        high = list(file[\"High\"])\n",
    "        low = list(file[\"Low\"])\n",
    "        close = list(file[\"Close\"])\n",
    "        adj_close = list(file[\"Adj Close\"])\n",
    "        volume = list(file[\"Volume\"])\n",
    "\n",
    "        def calculate_ema(prices, period):\n",
    "            multiplier = 2 / (period + 1)\n",
    "            ema_values = []\n",
    "            ema = prices[0]  # EMA for the first value is the same as the price itself\n",
    "            ema_values.append(ema)\n",
    "            for price in prices[1:]:\n",
    "                ema = price * multiplier + ema * (1 - multiplier)\n",
    "                ema_values.append(ema)\n",
    "            return ema_values\n",
    "        \n",
    "        \n",
    "        # Query\n",
    "        \n",
    "        ema_volume = calculate_ema(volume, 20)\n",
    "        if volume[-1] > volume[-2] and volume[-1] > volume[-3] and volume[-1] > volume[-4] and volume[-1] > volume[-5]:\n",
    "            if close[-1] > 5000:\n",
    "                if close[-1] <= close[-2] * 1.05:\n",
    "                    if volume[-1] > ema_volume[-1] * 2:\n",
    "                        final.append(stock)\n",
    "    except:\n",
    "        continue\n",
    "print(final)"
   ]
  }
 ],
 "metadata": {
  "kernelspec": {
   "display_name": "Python 3",
   "language": "python",
   "name": "python3"
  },
  "language_info": {
   "codemirror_mode": {
    "name": "ipython",
    "version": 3
   },
   "file_extension": ".py",
   "mimetype": "text/x-python",
   "name": "python",
   "nbconvert_exporter": "python",
   "pygments_lexer": "ipython3",
   "version": "3.10.7"
  }
 },
 "nbformat": 4,
 "nbformat_minor": 2
}
